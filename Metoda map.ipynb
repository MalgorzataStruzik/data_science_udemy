{
 "cells": [
  {
   "cell_type": "code",
   "execution_count": 9,
   "metadata": {},
   "outputs": [],
   "source": [
    "import pandas as pd\n",
    "import random as rd"
   ]
  },
  {
   "cell_type": "code",
   "execution_count": null,
   "metadata": {},
   "outputs": [],
   "source": [
    "2. Pracujesz dla linii lotniczych PYTHON Express (wszelkie podobieństwa do innych linii lotniczych są\n",
    "przypadkowe). Ta linia lotnicza posiada obecnie tylko 3 samoloty:\n",
    "symbol PYT001 - Airbus 320\n",
    "symbol PYT002 - Boeing 737\n",
    "symbol PYT003 - Airbus 321\n",
    "\n",
    "Zadeklaruj słownik, którego indeksami są w/w symbole, a wartościami nazwy samolotów."
   ]
  },
  {
   "cell_type": "code",
   "execution_count": 1,
   "metadata": {},
   "outputs": [],
   "source": [
    "samolotyDict = {'PYT001': 'Airbus 320',\n",
    "                'PYT002': 'Boeing 737',\n",
    "                'PYT003': 'Airbus 321'\n",
    "               }"
   ]
  },
  {
   "cell_type": "code",
   "execution_count": null,
   "metadata": {},
   "outputs": [],
   "source": [
    "3. Utwórz serię aircrafts w oparciu o dane z w/w słownika"
   ]
  },
  {
   "cell_type": "code",
   "execution_count": 5,
   "metadata": {},
   "outputs": [
    {
     "data": {
      "text/plain": [
       "PYT001    Airbus 320\n",
       "PYT002    Boeing 737\n",
       "PYT003    Airbus 321\n",
       "dtype: object"
      ]
     },
     "execution_count": 5,
     "metadata": {},
     "output_type": "execute_result"
    }
   ],
   "source": [
    "samolotySeria = pd.Series(samolotyDict)\n",
    "samolotySeria"
   ]
  },
  {
   "cell_type": "code",
   "execution_count": null,
   "metadata": {},
   "outputs": [],
   "source": [
    "4. Teraz wygenerujemy losową listę przelotów. Zadeklaruj pustą listę flightsList. Korzystając z pętli for, dodaj do\n",
    "listy 100 losowych wartości pochodzących z indeksu serii aircrafts (elementy na tej liście powinny być\n",
    "symbolami samolotów). Wyświetl 5 pierwszych wartości z tej listy. (Ponieważ korzystamy z funkcji losowych\n",
    "wyniki mogą się różnić).\n"
   ]
  },
  {
   "cell_type": "code",
   "execution_count": 6,
   "metadata": {},
   "outputs": [],
   "source": [
    "lotyList = []"
   ]
  },
  {
   "cell_type": "code",
   "execution_count": 10,
   "metadata": {},
   "outputs": [
    {
     "data": {
      "text/plain": [
       "['PYT003', 'PYT001', 'PYT001', 'PYT001', 'PYT003']"
      ]
     },
     "execution_count": 10,
     "metadata": {},
     "output_type": "execute_result"
    }
   ],
   "source": [
    "for i in range (100):\n",
    "    lotyList.append( rd.choice(samolotySeria.index))\n",
    "lotyList[:5]"
   ]
  },
  {
   "cell_type": "code",
   "execution_count": null,
   "metadata": {},
   "outputs": [],
   "source": [
    "5. W oparciu o listę flightsList, utwórz serię o nazwie flights. Wyświetl pięć pierwszych pozycji z listy"
   ]
  },
  {
   "cell_type": "code",
   "execution_count": 11,
   "metadata": {},
   "outputs": [
    {
     "data": {
      "text/plain": [
       "0    PYT003\n",
       "1    PYT001\n",
       "2    PYT001\n",
       "3    PYT001\n",
       "4    PYT003\n",
       "dtype: object"
      ]
     },
     "execution_count": 11,
     "metadata": {},
     "output_type": "execute_result"
    }
   ],
   "source": [
    "loty = pd.Series(lotyList)\n",
    "loty.head()"
   ]
  },
  {
   "cell_type": "code",
   "execution_count": null,
   "metadata": {},
   "outputs": [],
   "source": [
    "6. Lista 100 lotów zawiera obecnie losowe przeloty, coś w stylu 0 - PYT002 / 1 - PYT003 / 2 - PYT002 /... My\n",
    "jednak chcielibyśmy zobaczyć listę z nazwami samolotów! Utwórz nową listę o nazwie flights_aircrafts, która\n",
    "będzie zawierała informacje o lotach, ale w kolumnie wartości zamist symbolu samolotu ma się pojawić jego\n",
    "nazwa. Wyświetl z tej listy 5 pierwszych pozycji."
   ]
  },
  {
   "cell_type": "code",
   "execution_count": 12,
   "metadata": {},
   "outputs": [
    {
     "data": {
      "text/plain": [
       "0    Airbus 321\n",
       "1    Airbus 320\n",
       "2    Airbus 320\n",
       "3    Airbus 320\n",
       "4    Airbus 321\n",
       "dtype: object"
      ]
     },
     "execution_count": 12,
     "metadata": {},
     "output_type": "execute_result"
    }
   ],
   "source": [
    "flights_aircrafts = loty.map(samolotySeria)\n",
    "flights_aircrafts.head()"
   ]
  },
  {
   "cell_type": "code",
   "execution_count": null,
   "metadata": {},
   "outputs": [],
   "source": []
  }
 ],
 "metadata": {
  "kernelspec": {
   "display_name": "Python 3",
   "language": "python",
   "name": "python3"
  },
  "language_info": {
   "codemirror_mode": {
    "name": "ipython",
    "version": 3
   },
   "file_extension": ".py",
   "mimetype": "text/x-python",
   "name": "python",
   "nbconvert_exporter": "python",
   "pygments_lexer": "ipython3",
   "version": "3.8.5"
  }
 },
 "nbformat": 4,
 "nbformat_minor": 4
}
