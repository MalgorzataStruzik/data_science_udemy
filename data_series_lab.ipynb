{
 "cells": [
  {
   "cell_type": "code",
   "execution_count": null,
   "metadata": {},
   "outputs": [],
   "source": [
    "#1. Zaimportuj moduły: pandas, numpy, matplotlib (tylko pyplot), math i nadaj im standardowe aliasy"
   ]
  },
  {
   "cell_type": "code",
   "execution_count": 1,
   "metadata": {},
   "outputs": [],
   "source": [
    "import pandas as pd\n",
    "import numpy as np\n",
    "import matplotlib as plot\n",
    "import math as math"
   ]
  },
  {
   "cell_type": "code",
   "execution_count": null,
   "metadata": {},
   "outputs": [],
   "source": [
    "#2. Utwórz listę dni tygodnia i nazwij ją weekdays\n",
    "#3. W oparciu o tą listę utwórz obiekt Data Series. Zapisz go w zmiennej weekdaysSeries i wyświetl tą zmienną."
   ]
  },
  {
   "cell_type": "code",
   "execution_count": 11,
   "metadata": {},
   "outputs": [
    {
     "data": {
      "text/plain": [
       "['monday', 'tuesday', 'wednesday', 'thursday', 'friday', 'saturday', 'sunday']"
      ]
     },
     "execution_count": 11,
     "metadata": {},
     "output_type": "execute_result"
    }
   ],
   "source": [
    "weekdays = ['monday','tuesday','wednesday','thursday','friday','saturday','sunday']\n",
    "weekdays\n"
   ]
  },
  {
   "cell_type": "code",
   "execution_count": 9,
   "metadata": {},
   "outputs": [
    {
     "data": {
      "text/plain": [
       "0       monday\n",
       "1      tuesday\n",
       "2    wednesday\n",
       "3     thursday\n",
       "4       friday\n",
       "5     saturday\n",
       "6       sunday\n",
       "dtype: object"
      ]
     },
     "execution_count": 9,
     "metadata": {},
     "output_type": "execute_result"
    }
   ],
   "source": [
    "weekdsaysSeries = pd.Series(weekdays)\n",
    "weekdaysSeries"
   ]
  },
  {
   "cell_type": "code",
   "execution_count": null,
   "metadata": {},
   "outputs": [],
   "source": [
    "#4.utwórz listę freeDays, która bedzie zawierała tyle samo elementów co lista weekdays. W kolejnych pozycjach\n",
    "#tej listy zapisuj informację True/False oznaczającą, czy dany dzień tygodnia jest wolny czy nie.\n",
    "#W oparciu o listę freeDays utwórz obiekt Data Series. Zapisz go w zmiennej freeDaysSeries i wyświetl tą\n",
    "#zmienną. Zwróć uwagę na typ listy"
   ]
  },
  {
   "cell_type": "code",
   "execution_count": 14,
   "metadata": {},
   "outputs": [
    {
     "data": {
      "text/plain": [
       "0    False\n",
       "1    False\n",
       "2    False\n",
       "3    False\n",
       "4    False\n",
       "5     True\n",
       "6     True\n",
       "dtype: bool"
      ]
     },
     "execution_count": 14,
     "metadata": {},
     "output_type": "execute_result"
    }
   ],
   "source": [
    "freeDays = [False,False,False,False,False,True,True]\n",
    "freeDaysSeries = pd.Series(freeDays)\n",
    "freeDaysSeries"
   ]
  },
  {
   "cell_type": "code",
   "execution_count": null,
   "metadata": {},
   "outputs": [],
   "source": [
    "#5.\n",
    "#Utwórz hash table (dictionary) o nazwie holidays, gdzie kluczem jest nazwa święta, a wartością data, (bez\n",
    "#przesady - do ćwiczenia 3 święta wystarczą), np.\n",
    "#New Year - 2018-01-01\n",
    "#Epiphany - 2018-01-06\n",
    "#Easter - 2018-04-01\n",
    "#6.\n",
    "#W oparciu o hash table holidays utwórz Data Series i zapisz go w zmiennej holidaysSeries i wyświetl tą\n",
    "#zmienną."
   ]
  },
  {
   "cell_type": "code",
   "execution_count": 16,
   "metadata": {},
   "outputs": [],
   "source": [
    "holidays = {'New Year' : '2018-01-01',\n",
    "            'Epiphany' : '2018-01-06',\n",
    "             'Easter' : '2018-04-01'}"
   ]
  },
  {
   "cell_type": "code",
   "execution_count": 17,
   "metadata": {},
   "outputs": [
    {
     "data": {
      "text/plain": [
       "New Year    2018-01-01\n",
       "Epiphany    2018-01-06\n",
       "Easter      2018-04-01\n",
       "dtype: object"
      ]
     },
     "execution_count": 17,
     "metadata": {},
     "output_type": "execute_result"
    }
   ],
   "source": [
    "holidaysSeries = pd.Series(holidays)\n",
    "holidaysSeries"
   ]
  },
  {
   "cell_type": "code",
   "execution_count": null,
   "metadata": {},
   "outputs": [],
   "source": []
  }
 ],
 "metadata": {
  "kernelspec": {
   "display_name": "Python 3",
   "language": "python",
   "name": "python3"
  },
  "language_info": {
   "codemirror_mode": {
    "name": "ipython",
    "version": 3
   },
   "file_extension": ".py",
   "mimetype": "text/x-python",
   "name": "python",
   "nbconvert_exporter": "python",
   "pygments_lexer": "ipython3",
   "version": "3.8.5"
  }
 },
 "nbformat": 4,
 "nbformat_minor": 4
}
