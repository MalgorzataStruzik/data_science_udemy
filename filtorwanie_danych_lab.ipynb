{
 "cells": [
  {
   "cell_type": "code",
   "execution_count": null,
   "metadata": {},
   "outputs": [],
   "source": [
    "#1. Zaimportuj moduły: pandas, numpy, matplotlib (tylko pyplot), math i nadaj im standardowe aliasy\n"
   ]
  },
  {
   "cell_type": "code",
   "execution_count": 5,
   "metadata": {},
   "outputs": [],
   "source": [
    "import pandas as pd\n",
    "import numpy as np\n",
    "import matplotlib.pyplot as plot\n",
    "import math as math"
   ]
  },
  {
   "cell_type": "code",
   "execution_count": null,
   "metadata": {},
   "outputs": [],
   "source": [
    "#2Na stronie https://danepubliczne.gov.pl (https://danepubliczne.gov.pl) publikowane są ciekawe dane\n",
    "#statystyczne. Ta lista prezentuje informacje o wypadkach powodowanych przez osoby w różnym wieku: 14\n",
    "#,334,312,5823,9491,7486,4343. Wiek tych osób to kolejno: do 6, 7-14, 15-17, 18-24, 25-39, 40-59, 60 i\n",
    "#więcej). Utwórz serię zawierającą takie dane. Indeksem niech będzie wiek, a wartościami ilość wypadków.\n",
    "#Serię nazwij . Wyświetl serię."
   ]
  },
  {
   "cell_type": "code",
   "execution_count": 9,
   "metadata": {},
   "outputs": [
    {
     "data": {
      "text/plain": [
       "6          14\n",
       "7-14      334\n",
       "15-17     312\n",
       "18-24    5823\n",
       "25-39    9491\n",
       "40-59    7486\n",
       "60       4343\n",
       "dtype: int64"
      ]
     },
     "execution_count": 9,
     "metadata": {},
     "output_type": "execute_result"
    }
   ],
   "source": [
    "accident_data = {6 : 14,\n",
    "                 '7-14' : 334,\n",
    "                 '15-17' : 312,\n",
    "                 '18-24' : 5823,\n",
    "                 '25-39' : 9491,\n",
    "                 '40-59': 7486,\n",
    "                 '60' : 4343 }\n",
    "incidents = pd.Series(accident_data)\n",
    "incidents"
   ]
  },
  {
   "cell_type": "code",
   "execution_count": null,
   "metadata": {},
   "outputs": [],
   "source": [
    "#3.Wyświetl tylko te grupy, które spowodowały więcej niż 1000 wypadków. Najpierw pozwól na wyświetlenie NaN\n",
    "#dla grup, które mają mniej wypadków, a potem zupełnie je wyeliminuj\n"
   ]
  },
  {
   "cell_type": "code",
   "execution_count": 10,
   "metadata": {},
   "outputs": [
    {
     "data": {
      "text/plain": [
       "6           NaN\n",
       "7-14        NaN\n",
       "15-17       NaN\n",
       "18-24    5823.0\n",
       "25-39    9491.0\n",
       "40-59    7486.0\n",
       "60       4343.0\n",
       "dtype: float64"
      ]
     },
     "execution_count": 10,
     "metadata": {},
     "output_type": "execute_result"
    }
   ],
   "source": [
    "incidents.where(incidents > 1000)"
   ]
  },
  {
   "cell_type": "code",
   "execution_count": null,
   "metadata": {},
   "outputs": [],
   "source": [
    "#.4 Zapisz wynik poprzedniego polecenia w zmiennej incident1000. Wyświetl tą nową zmienną, żeby się\n",
    "#przekonać, że nie zawiera grup o małej ilości wypadków."
   ]
  },
  {
   "cell_type": "code",
   "execution_count": 17,
   "metadata": {},
   "outputs": [
    {
     "data": {
      "text/plain": [
       "18-24    5823.0\n",
       "25-39    9491.0\n",
       "40-59    7486.0\n",
       "60       4343.0\n",
       "dtype: float64"
      ]
     },
     "execution_count": 17,
     "metadata": {},
     "output_type": "execute_result"
    }
   ],
   "source": [
    "# incidents1000 = incidents.where(incidents > 1000).dropna() --  \n",
    "#dropna() oznacza wyciecie wartości,które nia pasują do warunkow\n",
    "incidents1000 = incidents.where(incidents > 1000).dropna()\n",
    "incidents1000"
   ]
  },
  {
   "cell_type": "code",
   "execution_count": null,
   "metadata": {},
   "outputs": [],
   "source": [
    "#.5.Upewnij się, że oryginalna seria incidents nie zmieniła zawartości. Jeżeli zmieniła, wykonaj ponownie\n",
    "#instrukcje z kroku (2)"
   ]
  },
  {
   "cell_type": "code",
   "execution_count": 18,
   "metadata": {},
   "outputs": [
    {
     "data": {
      "text/plain": [
       "6          14\n",
       "7-14      334\n",
       "15-17     312\n",
       "18-24    5823\n",
       "25-39    9491\n",
       "40-59    7486\n",
       "60       4343\n",
       "dtype: int64"
      ]
     },
     "execution_count": 18,
     "metadata": {},
     "output_type": "execute_result"
    }
   ],
   "source": [
    "incidents"
   ]
  },
  {
   "cell_type": "code",
   "execution_count": null,
   "metadata": {},
   "outputs": [],
   "source": [
    "#6. Wyświetl tylko dane dla grup osób w wieku 18-59 (3 grupy) - filtrowanie po indeksie#"
   ]
  },
  {
   "cell_type": "code",
   "execution_count": 19,
   "metadata": {},
   "outputs": [
    {
     "data": {
      "text/plain": [
       "18-24    5823\n",
       "25-39    9491\n",
       "40-59    7486\n",
       "dtype: int64"
      ]
     },
     "execution_count": 19,
     "metadata": {},
     "output_type": "execute_result"
    }
   ],
   "source": [
    "incidents.filter(items=['18-24','25-39','40-59'])"
   ]
  },
  {
   "cell_type": "code",
   "execution_count": null,
   "metadata": {},
   "outputs": [],
   "source": [
    "#7.Wyfiltruj w serii incidents tylko te pozycje, które liczbę wypadków mają mniejszą lub r#ówną 1000. Po operacji\n",
    "#filtrowania obiekt powinien zawierać tylko te wartości. Wyświetl serię incidents, aby upewnić się, że nie ma w\n",
    "#niej innych grup.`"
   ]
  },
  {
   "cell_type": "code",
   "execution_count": 30,
   "metadata": {},
   "outputs": [
    {
     "data": {
      "text/plain": [
       "6         14.0\n",
       "7-14     334.0\n",
       "15-17    312.0\n",
       "dtype: float64"
      ]
     },
     "execution_count": 30,
     "metadata": {},
     "output_type": "execute_result"
    }
   ],
   "source": [
    "incidents.where(incidents <= 1000, inplace = True)\n",
    "incidents.dropna(inplace=True)\n",
    "incidents"
   ]
  },
  {
   "cell_type": "code",
   "execution_count": null,
   "metadata": {},
   "outputs": [],
   "source": []
  }
 ],
 "metadata": {
  "kernelspec": {
   "display_name": "Python 3",
   "language": "python",
   "name": "python3"
  },
  "language_info": {
   "codemirror_mode": {
    "name": "ipython",
    "version": 3
   },
   "file_extension": ".py",
   "mimetype": "text/x-python",
   "name": "python",
   "nbconvert_exporter": "python",
   "pygments_lexer": "ipython3",
   "version": "3.8.5"
  }
 },
 "nbformat": 4,
 "nbformat_minor": 4
}
