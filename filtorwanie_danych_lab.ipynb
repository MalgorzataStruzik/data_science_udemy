{
 "cells": [
  {
   "cell_type": "code",
   "execution_count": null,
   "metadata": {},
   "outputs": [],
   "source": [
    "#1. Zaimportuj moduły: pandas, numpy, matplotlib (tylko pyplot), math i nadaj im standardowe aliasy\n"
   ]
  },
  {
   "cell_type": "code",
   "execution_count": null,
   "metadata": {},
   "outputs": [],
   "source": [
    "import pandas as pd\n",
    "import numpy as np\n",
    "import matplotlib.pyplot as plot\n",
    "import math as math"
   ]
  },
  {
   "cell_type": "code",
   "execution_count": null,
   "metadata": {},
   "outputs": [],
   "source": [
    "#2Na stronie https://danepubliczne.gov.pl (https://danepubliczne.gov.pl) publikowane są ciekawe dane\n",
    "#statystyczne. Ta lista prezentuje informacje o wypadkach powodowanych przez osoby w różnym wieku: 14\n",
    "#,334,312,5823,9491,7486,4343. Wiek tych osób to kolejno: do 6, 7-14, 15-17, 18-24, 25-39, 40-59, 60 i\n",
    "#więcej). Utwórz serię zawierającą takie dane. Indeksem niech będzie wiek, a wartościami ilość wypadków.\n",
    "#Serię nazwij incidents. Wyświetl serię."
   ]
  },
  {
   "cell_type": "code",
   "execution_count": null,
   "metadata": {},
   "outputs": [],
   "source": []
  },
  {
   "cell_type": "code",
   "execution_count": null,
   "metadata": {},
   "outputs": [],
   "source": [
    "#3.Wyświetl tylko te grupy, które spowodowały więcej niż 1000 wypadków. Najpierw pozwól na wyświetlenie NaN\n",
    "#dla grup, które mają mniej wypadków, a potem zupełnie je wyeliminuj\n",
    "#.4 Zapisz wynik poprzedniego polecenia w zmiennej incident1000. Wyświetl tą nową zmienną, żeby się\n",
    "#przekonać, że nie zawiera grup o małej ilości wypadków.\n",
    "#.5.Upewnij się, że oryginalna seria incidents nie zmieniła zawartości. Jeżeli zmieniła, wykonaj ponownie\n",
    "#instrukcje z kroku (2)\n",
    "#6. Wyświetl tylko dane dla grup osób w wieku 18-59 (3 grupy) - filtrowanie po indeksie#\n",
    "#7.Wyfiltruj w serii incidents tylko te pozycje, które liczbę wypadków mają mniejszą lub r#ówną 1000. Po operacji\n",
    "#filtrowania obiekt powinien zawierać tylko te wartości. Wyświetl serię incidents, aby upewnić się, że nie ma w\n",
    "#niej innych grup.`"
   ]
  }
 ],
 "metadata": {
  "kernelspec": {
   "display_name": "Python 3",
   "language": "python",
   "name": "python3"
  },
  "language_info": {
   "codemirror_mode": {
    "name": "ipython",
    "version": 3
   },
   "file_extension": ".py",
   "mimetype": "text/x-python",
   "name": "python",
   "nbconvert_exporter": "python",
   "pygments_lexer": "ipython3",
   "version": "3.8.5"
  }
 },
 "nbformat": 4,
 "nbformat_minor": 4
}
